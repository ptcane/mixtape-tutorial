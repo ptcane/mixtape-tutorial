{
 "cells": [
  {
   "cell_type": "markdown",
   "metadata": {
    "slideshow": {
     "slide_type": "slide"
    }
   },
   "source": [
    "# Getting data with `requests`"
   ]
  },
  {
   "cell_type": "code",
   "execution_count": null,
   "metadata": {
    "slideshow": {
     "slide_type": "skip"
    },
    "tags": [
     "remove"
    ]
   },
   "outputs": [],
   "source": [
    "import requests\n",
    "from requests.auth import HTTPBasicAuth\n",
    "import os\n",
    "\n",
    "%load_ext dotenv\n",
    "%dotenv\n",
    "\n",
    "client_id = os.getenv(\"CLIENT_ID\")\n",
    "client_secret = os.getenv(\"CLIENT_SECRET\")\n",
    "\n",
    "response = requests.post('https://accounts.spotify.com/api/token', {    \n",
    "    'client_id': client_id,\n",
    "    'client_secret': client_secret,\n",
    "    'grant_type': 'client_credentials'\n",
    "})\n",
    "\n",
    "access_token = response.json()['access_token']"
   ]
  },
  {
   "cell_type": "markdown",
   "metadata": {
    "slideshow": {
     "slide_type": "slide"
    }
   },
   "source": [
    "## Undertanding the API structure\n",
    "\n",
    "Our first port of call should be the [documentation](https://developer.spotify.com/documentation/web-api/reference/) - take a look around the sections in the **API Endpoint Reference**.\n",
    "\n",
    "You'll discover:\n",
    "\n",
    "- the `base_url` for the API is `https://api.spotify.com/v1`\n",
    "- various endpoints which accept `GET` requests, such as:\n",
    "\n",
    "    `https://api.spotify.com/v1/recommendations`  \n",
    "    `https://api.spotify.com/v1/artists/{id}`\n",
    "\n",
    "Looking at the detailed page of each of these endpoints, you'll see a list of the **query parameters** that can (or are required) be provided, as well as the need for authorization details to be provided in the **header**.\n",
    "\n",
    "Again, `requests` will simplify this process for us."
   ]
  },
  {
   "cell_type": "markdown",
   "metadata": {
    "slideshow": {
     "slide_type": "slide"
    }
   },
   "source": [
    "## Using `requests.get()`\n",
    "\n",
    "We previously covered how REST APIs typically support `GET` requests, which can be used to **retrieve data** from the API.\n",
    "\n",
    "### repl.it code snippet\n",
    "\n",
    "Fork the [repl](https://repl.it/@datadesigns/seeder-requests-get-data) and **copy your `access_token` into `auth.py`** (you'll need to create a new one if it's more than an hour old)."
   ]
  },
  {
   "cell_type": "code",
   "execution_count": 2,
   "metadata": {
    "tags": [
     "remove-input"
    ]
   },
   "outputs": [
    {
     "data": {
      "text/html": [
       "<iframe height=\"800px\" width=\"100%\" src=\"https://repl.it/@datadesigns/seeder-requests-get-data?lite=true\" scrolling=\"no\" frameborder=\"no\" allowtransparency=\"true\" allowfullscreen=\"true\" sandbox=\"allow-forms allow-pointer-lock allow-popups allow-same-origin allow-scripts allow-modals\"></iframe>\n"
      ],
      "text/plain": [
       "<IPython.core.display.HTML object>"
      ]
     },
     "metadata": {},
     "output_type": "display_data"
    }
   ],
   "source": [
    "%%html\n",
    "<iframe height=\"800px\" width=\"100%\" src=\"https://repl.it/@datadesigns/seeder-requests-get-data?lite=true\" scrolling=\"no\" frameborder=\"no\" allowtransparency=\"true\" allowfullscreen=\"true\" sandbox=\"allow-forms allow-pointer-lock allow-popups allow-same-origin allow-scripts allow-modals\"></iframe>"
   ]
  },
  {
   "cell_type": "markdown",
   "metadata": {
    "slideshow": {
     "slide_type": "slide"
    }
   },
   "source": [
    "## Code walkthrough\n",
    "\n",
    "Let's go through `main.py` and see what happened...\n",
    "\n",
    "### Authorization headers"
   ]
  },
  {
   "cell_type": "code",
   "execution_count": 42,
   "metadata": {
    "slideshow": {
     "slide_type": "-"
    }
   },
   "outputs": [],
   "source": [
    "import requests\n",
    "\n",
    "#replace this with your current client_credentials access_token:\n",
    "access_token = 'BQCHXEgma0DJzRDlxTeuGYnqT9cdUaW93bC3Nq90adobVSWMDjjcN40n5ZQ0EmYHPVePzp6TJPb3Svvyg24' \n",
    "\n",
    "headers = {'Authorization': f'Bearer {access_token}'}"
   ]
  },
  {
   "cell_type": "markdown",
   "metadata": {},
   "source": [
    "- we imported `requests` and assigned our token to `access_token`\n",
    "- we created a `headers` dictionary, with this `parameter:value` pair:  \n",
    "    `Authorization: Bearer [access_token]`\n",
    "    \n",
    "*Notice that we had to do some work to get the value in the format the API requires (with `Bearer ` before the `access_token`); this is mentioned in the [API documentation](https://developer.spotify.com/documentation/general/guides/authorization-guide/#client-credentials-flow) but wasn't clear to me before Google came to the rescue.*"
   ]
  },
  {
   "cell_type": "markdown",
   "metadata": {
    "slideshow": {
     "slide_type": "slide"
    }
   },
   "source": [
    "### URL components"
   ]
  },
  {
   "cell_type": "code",
   "execution_count": 18,
   "metadata": {
    "slideshow": {
     "slide_type": "-"
    }
   },
   "outputs": [],
   "source": [
    "base_url = 'https://api.spotify.com/v1'\n",
    "endpoint = '/albums/'\n",
    "identifier = '1To7kv722A8SpZF789MZy7'\n",
    "full_url = f'{base_url}{endpoint}{identifier}'"
   ]
  },
  {
   "cell_type": "markdown",
   "metadata": {},
   "source": [
    "- the URL is in component parts and combined using an f-string; this will allow us to make further requests to different endpoints more easily\n",
    "\n",
    "- the value assigned to `identifier` is an `album_id`; these can be found at the end of the URL of any album page on the [Spotify Web Player](https://open.spotify.com/)"
   ]
  },
  {
   "cell_type": "markdown",
   "metadata": {
    "slideshow": {
     "slide_type": "slide"
    }
   },
   "source": [
    "### Response data"
   ]
  },
  {
   "cell_type": "code",
   "execution_count": 34,
   "metadata": {
    "slideshow": {
     "slide_type": "-"
    }
   },
   "outputs": [
    {
     "name": "stdout",
     "output_type": "stream",
     "text": [
      "['album_type', 'artists', 'available_markets', 'copyrights', 'external_ids', 'external_urls', 'genres', 'href', 'id', 'images', 'label', 'name', 'popularity', 'release_date', 'release_date_precision', 'total_tracks', 'tracks', 'type', 'uri'] \n",
      "\n",
      "MTV Unplugged In New York\n"
     ]
    }
   ],
   "source": [
    "response = requests.get(full_url, headers=headers)\n",
    "data = response.json()\n",
    "\n",
    "print(list(data.keys()), '\\n')\n",
    "print(data['name'])"
   ]
  },
  {
   "cell_type": "markdown",
   "metadata": {},
   "source": [
    "- we used the `.json()` method on the `Response` object to convert the JSON data into equivalent Python data stuctures\n",
    "- we took a look at the `list` of `.keys()` in the resulting dictionary\n",
    "- we fished out the value for the `name` key from the dictionary"
   ]
  },
  {
   "cell_type": "markdown",
   "metadata": {
    "slideshow": {
     "slide_type": "slide"
    }
   },
   "source": [
    "## JSON structure and nesting"
   ]
  },
  {
   "cell_type": "markdown",
   "metadata": {},
   "source": [
    "We learned previously how JSON is made up of the following structures:  \n",
    "\n",
    "- **JSON objects**, which get converted to **Python dictionaries**\n",
    "- **JSON arrays**, which get converted to **Python lists**\n",
    "\n",
    "JSON datasets are often heavily **nested**; by this it's meant that we can expect to encounter instances of these data structures *within* others."
   ]
  },
  {
   "cell_type": "markdown",
   "metadata": {
    "slideshow": {
     "slide_type": "slide"
    }
   },
   "source": [
    "### Example of JSON structure"
   ]
  },
  {
   "cell_type": "code",
   "execution_count": 36,
   "metadata": {
    "slideshow": {
     "slide_type": "-"
    }
   },
   "outputs": [
    {
     "data": {
      "text/plain": [
       "[{'external_urls': {'spotify': 'https://open.spotify.com/artist/6olE6TJLqED3rqDCT0FyPh'},\n",
       "  'href': 'https://api.spotify.com/v1/artists/6olE6TJLqED3rqDCT0FyPh',\n",
       "  'id': '6olE6TJLqED3rqDCT0FyPh',\n",
       "  'name': 'Nirvana',\n",
       "  'type': 'artist',\n",
       "  'uri': 'spotify:artist:6olE6TJLqED3rqDCT0FyPh'}]"
      ]
     },
     "execution_count": 36,
     "metadata": {},
     "output_type": "execute_result"
    }
   ],
   "source": [
    "data['artists']"
   ]
  },
  {
   "cell_type": "code",
   "execution_count": 38,
   "metadata": {},
   "outputs": [
    {
     "name": "stdout",
     "output_type": "stream",
     "text": [
      "Nirvana\n"
     ]
    }
   ],
   "source": [
    "data['artists'][0]['name']"
   ]
  },
  {
   "cell_type": "markdown",
   "metadata": {},
   "source": [
    "- the value associated with the `data` key is itself a list of dictionaries (in this case there is only one element in the list, but the structure means that several artists could be accomodated) "
   ]
  },
  {
   "cell_type": "code",
   "execution_count": 39,
   "metadata": {
    "slideshow": {
     "slide_type": "slide"
    }
   },
   "outputs": [
    {
     "name": "stdout",
     "output_type": "stream",
     "text": [
      "https://open.spotify.com/artist/6olE6TJLqED3rqDCT0FyPh\n"
     ]
    }
   ],
   "source": [
    "print(data['artists'][0]['external_urls']['spotify'])"
   ]
  },
  {
   "cell_type": "markdown",
   "metadata": {
    "slideshow": {
     "slide_type": "-"
    }
   },
   "source": [
    "- to extract the Spotify URL we are getting a value from a dictionary, which is itself a value in another dictionary, which is itself an element in a list, which is itself a value in another dictionary. Phew!\n",
    "\n",
    "We'll be looking later on at how we can better access nested data returned by our API requests.\n",
    "    \n",
    "\n"
   ]
  },
  {
   "cell_type": "markdown",
   "metadata": {
    "slideshow": {
     "slide_type": "slide"
    }
   },
   "source": [
    "### The repl.it console\n",
    "\n",
    "After running the `repl` you forked earlier, you can access the `data` dictionary via the console:\n",
    "\n",
    "![replit console](images/replit-console.png)"
   ]
  },
  {
   "cell_type": "markdown",
   "metadata": {},
   "source": [
    "- after running `main.py`, the `data` dictionary (and anything else imported or created) is in memory\n",
    "- as a Python `repl`, the Python **interpreter** is already running, and we can enter Python commands"
   ]
  },
  {
   "cell_type": "markdown",
   "metadata": {
    "slideshow": {
     "slide_type": "slide"
    }
   },
   "source": [
    "## Using query parameters\n",
    "\n",
    "With our request for data relating to a particular album, the URL itself (with the `{id}` at the end of the endpoint) was sufficient to specify what data we were requesting.\n",
    "\n",
    "However, we often need to be more specific, and it it's often more appropariate for the API to be structured to deal with such requests through the use of **query parameters**.\n",
    "\n",
    "Again, fear not - `requests` is here to make life easier for us."
   ]
  },
  {
   "cell_type": "markdown",
   "metadata": {
    "slideshow": {
     "slide_type": "slide"
    }
   },
   "source": [
    "### Example with query parameters\n",
    "\n",
    "Take a look at the API documentation for [Search](https://developer.spotify.com/documentation/web-api/reference/search/search/). \n",
    "\n",
    "You'll notice that values for the `q` (short for 'query') and `type` parameters are *required* - our request will fail if we don't provide them."
   ]
  },
  {
   "cell_type": "code",
   "execution_count": 58,
   "metadata": {},
   "outputs": [],
   "source": [
    "params = {'q': 'waterfall', 'type': 'track'}\n",
    "search_endpoint = '/search'\n",
    "search_url = f'{base_url}{search_endpoint}'\n",
    "search_response = requests.get(search_url, headers=headers, params=params)"
   ]
  },
  {
   "cell_type": "markdown",
   "metadata": {},
   "source": [
    "- we assigned a dictionary containing the `parameter:value` pairs to `params`\n",
    "- we used the `/search` endpoint with the `base_url` we defined previously\n",
    "- we used our `params` dictionary as the `params` argument in the `GET` request"
   ]
  },
  {
   "cell_type": "code",
   "execution_count": 68,
   "metadata": {
    "slideshow": {
     "slide_type": "slide"
    }
   },
   "outputs": [
    {
     "name": "stdout",
     "output_type": "stream",
     "text": [
      "['tracks']\n",
      "['href', 'items', 'limit', 'next', 'offset', 'previous', 'total']\n",
      "['album', 'artists', 'available_markets', 'disc_number', 'duration_ms', 'explicit', 'external_ids', 'external_urls', 'href', 'id', 'is_local', 'name', 'popularity', 'preview_url', 'track_number', 'type', 'uri']\n"
     ]
    }
   ],
   "source": [
    "waterfall_tracks = search_response.json()\n",
    "print(list(waterfall_tracks.keys()))\n",
    "print(list(waterfall_tracks['tracks'].keys()))\n",
    "print(list(waterfall_tracks['tracks']['items'][0].keys()))"
   ]
  },
  {
   "cell_type": "markdown",
   "metadata": {
    "slideshow": {
     "slide_type": "-"
    }
   },
   "source": [
    "Again, we see that the returned data structure has a lot of nesting.\n",
    "\n",
    "- the top-level dictionary has only one key; perhaps at some stage, `type` wasn't a required value and so the returned dataset could also have contained albums, artists, etc\n",
    "- the keys in the next level relate to the search itself, including data on relevant tracks\n",
    "    - the `items` value is a list of dictionaries, each containing data about a given track\n",
    "- each item in this list is a dictionary, some of whose values are also data structures \n",
    " "
   ]
  },
  {
   "cell_type": "markdown",
   "metadata": {
    "slideshow": {
     "slide_type": "slide"
    }
   },
   "source": [
    "### Result and rate limits on API requests"
   ]
  },
  {
   "cell_type": "markdown",
   "metadata": {
    "slideshow": {
     "slide_type": "-"
    }
   },
   "source": [
    "APIs will not typically return all items if there are a large number of matches; instead, further calls to the API will be required. You may also encounter limits on the **frequency** or **volume** of requests to an API or particular endpoint."
   ]
  },
  {
   "cell_type": "code",
   "execution_count": 76,
   "metadata": {},
   "outputs": [
    {
     "name": "stdout",
     "output_type": "stream",
     "text": [
      "97307\n",
      "20\n",
      "https://api.spotify.com/v1/search?query=waterfall&type=track&offset=20&limit=20\n"
     ]
    }
   ],
   "source": [
    "print(waterfall_tracks['tracks']['total'])\n",
    "print(waterfall_tracks['tracks']['limit'])\n",
    "print(waterfall_tracks['tracks']['next'])"
   ]
  },
  {
   "cell_type": "markdown",
   "metadata": {},
   "source": [
    "- given the total number of results, we can see why there is a limit rather than returning all of them :)\n",
    "- the Spotify API conveniently provides us with an endpoint for the next block of tracks"
   ]
  },
  {
   "cell_type": "markdown",
   "metadata": {
    "slideshow": {
     "slide_type": "slide"
    }
   },
   "source": [
    "## Your turn...\n",
    "\n",
    "Spend some time using  `requests.get()` to fetch data from endpoints listed under `Albums`, `Artists`, `Browse`, `Search`, and `Tracks` in the [documentation](https://developer.spotify.com/documentation/web-api/reference/); all of these can be done using the Client Credentials `access_token` you created earlier.\n",
    "\n",
    "See if you can create some reuable functions, to do things such as:\n",
    "\n",
    "- fetching data for a given track, using an `access_token` and a track `id` as arguments\n",
    "- searching for artists, using an `access_token` and a string of keywords as arguments\n",
    "\n",
    "For now, don't worry about automatically renewing the `access_token` or diving too deep into the nested data - we'll be looking at that later on."
   ]
  }
 ],
 "metadata": {
  "celltoolbar": "Tags",
  "jupytext": {
   "formats": "ipynb,py:percent"
  },
  "kernelspec": {
   "display_name": "Python 3",
   "language": "python",
   "name": "python3"
  },
  "language_info": {
   "codemirror_mode": {
    "name": "ipython",
    "version": 3
   },
   "file_extension": ".py",
   "mimetype": "text/x-python",
   "name": "python",
   "nbconvert_exporter": "python",
   "pygments_lexer": "ipython3",
   "version": "3.7.6"
  },
  "rise": {
   "scroll": true,
   "theme": "white"
  }
 },
 "nbformat": 4,
 "nbformat_minor": 4
}
