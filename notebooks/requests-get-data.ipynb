{
 "cells": [
  {
   "cell_type": "markdown",
   "metadata": {
    "slideshow": {
     "slide_type": "slide"
    }
   },
   "source": [
    "# Getting data with `requests`"
   ]
  },
  {
   "cell_type": "code",
   "execution_count": 1,
   "metadata": {
    "slideshow": {
     "slide_type": "skip"
    },
    "tags": [
     "remove"
    ]
   },
   "outputs": [
    {
     "name": "stdout",
     "output_type": "stream",
     "text": [
      "4bb5f5a5e044498ab39bf1f8b4ad99be\n"
     ]
    }
   ],
   "source": [
    "import requests\n",
    "from requests.auth import HTTPBasicAuth\n",
    "import os\n",
    "\n",
    "%load_ext dotenv\n",
    "%dotenv\n",
    "\n",
    "client_id = os.getenv(\"CLIENT_ID\")\n",
    "client_secret = os.getenv(\"CLIENT_SECRET\")\n",
    "print(client_id)"
   ]
  },
  {
   "cell_type": "code",
   "execution_count": 2,
   "metadata": {
    "tags": [
     "remove"
    ]
   },
   "outputs": [
    {
     "name": "stdout",
     "output_type": "stream",
     "text": [
      "200\n",
      "BQDNokgFn6wBLEpB1NPe-dhG4g29OWnLCPrRZGZvZ-ZlRHGPsi51els1Thy5lARaGkHVikTu4D9gB9XUeus\n"
     ]
    }
   ],
   "source": [
    "\n",
    "response = requests.post('https://accounts.spotify.com/api/token', {    \n",
    "    'client_id': client_id,\n",
    "    'client_secret': client_secret,\n",
    "    'grant_type': 'client_credentials'\n",
    "})\n",
    "print(response.status_code)\n",
    "access_token = response.json()['access_token']\n",
    "\n",
    "print(access_token)"
   ]
  },
  {
   "cell_type": "markdown",
   "metadata": {
    "slideshow": {
     "slide_type": "slide"
    }
   },
   "source": [
    "## API endpoints\n",
    "\n",
    "Our first port of call should be the [documentation](https://developer.spotify.com/documentation/web-api/reference/){target=_blank} - take a look around the sections in the **API Endpoint Reference**.\n",
    "\n",
    "You'll discover:\n",
    "\n",
    "- the `base_url` for the API is `https://api.spotify.com/v1`\n",
    "- various endpoints which accept `GET` requests, such as:\n",
    "\n",
    "    `https://api.spotify.com/v1/recommendations`  \n",
    "    `https://api.spotify.com/v1/artists/{id}`\n",
    "\n",
    "Looking at the detailed page of each of these endpoints, you'll see a list of the **query parameters** that can (or are required) be provided, as well as the need for authorization details to be provided in the **header**.\n",
    "\n",
    "Again, `requests` will simplify this process for us."
   ]
  },
  {
   "cell_type": "markdown",
   "metadata": {
    "slideshow": {
     "slide_type": "slide"
    }
   },
   "source": [
    "## Using `requests.get()`\n",
    "\n",
    "We previously covered how REST APIs typically support `GET` requests, which can be used to **retrieve data** from the API.\n",
    "\n",
    "### repl.it code snippet\n",
    "\n",
    "Fork the [repl](https://repl.it/@datadesigns/mixtape-requests-get-data){target=_blank} and **copy your `access_token` into `main.py`** (you'll need to create a new one if it's more than an hour old)."
   ]
  },
  {
   "cell_type": "code",
   "execution_count": 9,
   "metadata": {
    "slideshow": {
     "slide_type": "skip"
    },
    "tags": [
     "remove-input"
    ]
   },
   "outputs": [
    {
     "data": {
      "text/html": [
       "<iframe height=\"800px\" width=\"100%\" src=\"https://repl.it/@datadesigns/mixtape-requests-get-data?lite=true\" scrolling=\"no\" frameborder=\"no\" allowtransparency=\"true\" allowfullscreen=\"true\" sandbox=\"allow-forms allow-pointer-lock allow-popups allow-same-origin allow-scripts allow-modals\"></iframe>\n"
      ],
      "text/plain": [
       "<IPython.core.display.HTML object>"
      ]
     },
     "metadata": {},
     "output_type": "display_data"
    }
   ],
   "source": [
    "%%html\n",
    "<iframe height=\"800px\" width=\"100%\" src=\"https://repl.it/@datadesigns/mixtape-requests-get-data?lite=true\" scrolling=\"no\" frameborder=\"no\" allowtransparency=\"true\" allowfullscreen=\"true\" sandbox=\"allow-forms allow-pointer-lock allow-popups allow-same-origin allow-scripts allow-modals\"></iframe>"
   ]
  },
  {
   "cell_type": "markdown",
   "metadata": {
    "slideshow": {
     "slide_type": "slide"
    }
   },
   "source": [
    "## Code walkthrough\n",
    "\n",
    "Let's go through `main.py` and see what happened...\n",
    "\n",
    "### Authorization headers"
   ]
  },
  {
   "cell_type": "code",
   "execution_count": 3,
   "metadata": {
    "slideshow": {
     "slide_type": "-"
    }
   },
   "outputs": [],
   "source": [
    "import requests\n",
    "\n",
    "#replace this with your current client_credentials access_token:\n",
    "access_token = 'BQDNokgFn6wBLEpB1NPe-dhG4g29OWnLCPrRZGZvZ-ZlRHGPsi51els1Thy5lARaGkHVikTu4D9gB9XUeus' \n",
    "\n",
    "headers = {'Authorization': f'Bearer {access_token}'}"
   ]
  },
  {
   "cell_type": "markdown",
   "metadata": {},
   "source": [
    "- we imported `requests` and assigned our token to `access_token`\n",
    "- we created a `headers` dictionary, with this `parameter:value` pair:  \n",
    "    `Authorization: Bearer [access_token]`\n",
    "    \n",
    "*Notice that we had to do some work to get the value in the format the API requires (with `Bearer ` before the `access_token`); this is mentioned in the [API documentation](https://developer.spotify.com/documentation/general/guides/authorization-guide/#client-credentials-flow){target=_blank} but wasn't clear to me before Google came to the rescue.*"
   ]
  },
  {
   "cell_type": "markdown",
   "metadata": {
    "slideshow": {
     "slide_type": "slide"
    }
   },
   "source": [
    "### URL components"
   ]
  },
  {
   "cell_type": "code",
   "execution_count": 4,
   "metadata": {
    "slideshow": {
     "slide_type": "-"
    }
   },
   "outputs": [],
   "source": [
    "base_url = 'https://api.spotify.com/v1'\n",
    "endpoint = '/tracks/'\n",
    "identifier = '7azo4rpSUh8nXgtonC6Pkq'\n",
    "full_url = f'{base_url}{endpoint}{identifier}'"
   ]
  },
  {
   "cell_type": "markdown",
   "metadata": {},
   "source": [
    "- the URL is in component parts and combined using an f-string; this will allow us to make further requests to different endpoints more easily\n",
    "\n",
    "- the `identifier` value is a `track_id`; you can get these from the  [Spotify Web Player](https://open.spotify.com/){target=_blank}:  \n",
    "\n",
    "    - right-click on any **song title**\n",
    "    - click `Share` then `Copy Song Link`\n",
    "    - the `track_id` is the final part of the URL"
   ]
  },
  {
   "cell_type": "markdown",
   "metadata": {
    "slideshow": {
     "slide_type": "slide"
    }
   },
   "source": [
    "### Response data"
   ]
  },
  {
   "cell_type": "code",
   "execution_count": 12,
   "metadata": {
    "slideshow": {
     "slide_type": "-"
    }
   },
   "outputs": [
    {
     "name": "stdout",
     "output_type": "stream",
     "text": [
      "['album', 'artists', 'available_markets', 'disc_number', 'duration_ms', 'explicit', 'external_ids', 'external_urls', 'href', 'id', 'is_local', 'name', 'popularity', 'preview_url', 'track_number', 'type', 'uri'] \n",
      "\n",
      " Thriller\n"
     ]
    }
   ],
   "source": [
    "response = requests.get(full_url, headers=headers)\n",
    "data = response.json()\n",
    "\n",
    "print(list(data.keys()), '\\n\\n', data['name'])"
   ]
  },
  {
   "cell_type": "markdown",
   "metadata": {},
   "source": [
    "- we used the `.json()` method on the `Response` object to convert the JSON data into equivalent Python data stuctures\n",
    "- we took a look at the `list` of `.keys()` in the resulting dictionary\n",
    "- we fished out the value for the `name` key from the dictionary"
   ]
  },
  {
   "cell_type": "markdown",
   "metadata": {
    "slideshow": {
     "slide_type": "slide"
    }
   },
   "source": [
    "## JSON structure"
   ]
  },
  {
   "cell_type": "markdown",
   "metadata": {},
   "source": [
    "We learned previously how JSON is made up of the following structures:  \n",
    "\n",
    "- **JSON objects**, which get converted to **Python dictionaries**\n",
    "- **JSON arrays**, which get converted to **Python lists**\n",
    "\n",
    "JSON datasets are often heavily **nested**; by this it's meant that we can expect to encounter instances of these data structures *within* others."
   ]
  },
  {
   "cell_type": "markdown",
   "metadata": {
    "slideshow": {
     "slide_type": "slide"
    }
   },
   "source": [
    "### Example of JSON structure"
   ]
  },
  {
   "cell_type": "code",
   "execution_count": 6,
   "metadata": {
    "slideshow": {
     "slide_type": "-"
    }
   },
   "outputs": [
    {
     "data": {
      "text/plain": [
       "[{'external_urls': {'spotify': 'https://open.spotify.com/artist/3fMbdgg4jU18AjLCKBhRSm'},\n",
       "  'href': 'https://api.spotify.com/v1/artists/3fMbdgg4jU18AjLCKBhRSm',\n",
       "  'id': '3fMbdgg4jU18AjLCKBhRSm',\n",
       "  'name': 'Michael Jackson',\n",
       "  'type': 'artist',\n",
       "  'uri': 'spotify:artist:3fMbdgg4jU18AjLCKBhRSm'}]"
      ]
     },
     "execution_count": 6,
     "metadata": {},
     "output_type": "execute_result"
    }
   ],
   "source": [
    "data['artists']"
   ]
  },
  {
   "cell_type": "code",
   "execution_count": 7,
   "metadata": {},
   "outputs": [
    {
     "data": {
      "text/plain": [
       "'Michael Jackson'"
      ]
     },
     "execution_count": 7,
     "metadata": {},
     "output_type": "execute_result"
    }
   ],
   "source": [
    "data['artists'][0]['name']"
   ]
  },
  {
   "cell_type": "markdown",
   "metadata": {},
   "source": [
    "- the value associated with the `data` key is itself a list of dictionaries (in this case there is only one element in the list, but the structure means that several artists could be accomodated) "
   ]
  },
  {
   "cell_type": "code",
   "execution_count": 8,
   "metadata": {
    "slideshow": {
     "slide_type": "slide"
    }
   },
   "outputs": [
    {
     "name": "stdout",
     "output_type": "stream",
     "text": [
      "https://open.spotify.com/artist/3fMbdgg4jU18AjLCKBhRSm\n"
     ]
    }
   ],
   "source": [
    "print(data['artists'][0]['external_urls']['spotify'])"
   ]
  },
  {
   "cell_type": "markdown",
   "metadata": {
    "slideshow": {
     "slide_type": "-"
    }
   },
   "source": [
    "- to extract the Spotify URL we are getting a value from a dictionary, which is itself a value in another dictionary, which is itself an element in a list, which is itself a value in another dictionary. Phew! \n",
    "\n"
   ]
  },
  {
   "cell_type": "markdown",
   "metadata": {
    "slideshow": {
     "slide_type": "slide"
    }
   },
   "source": [
    "### The repl.it console\n",
    "\n",
    "After running the `repl` you forked earlier, you can access the `data` dictionary via the console:\n",
    "\n",
    "![thriller](images/thriller-console.png)"
   ]
  },
  {
   "cell_type": "markdown",
   "metadata": {},
   "source": [
    "- after running `main.py`, the `data` dictionary (and anything else imported or created) is in memory\n",
    "- as a Python `repl`, the Python **interpreter** is already running, and we can enter Python commands"
   ]
  }
 ],
 "metadata": {
  "celltoolbar": "Slideshow",
  "kernelspec": {
   "display_name": "Python 3",
   "language": "python",
   "name": "python3"
  },
  "language_info": {
   "codemirror_mode": {
    "name": "ipython",
    "version": 3
   },
   "file_extension": ".py",
   "mimetype": "text/x-python",
   "name": "python",
   "nbconvert_exporter": "python",
   "pygments_lexer": "ipython3",
   "version": "3.7.6"
  },
  "rise": {
   "scroll": true,
   "theme": "white"
  }
 },
 "nbformat": 4,
 "nbformat_minor": 4
}
