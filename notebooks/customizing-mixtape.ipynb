{
 "cells": [
  {
   "cell_type": "markdown",
   "metadata": {
    "slideshow": {
     "slide_type": "slide"
    }
   },
   "source": [
    "# Customizing Mixtape"
   ]
  },
  {
   "cell_type": "markdown",
   "metadata": {
    "slideshow": {
     "slide_type": "slide"
    }
   },
   "source": [
    "## App starter kit\n",
    "\n",
    "Now it's time to apply what you've learned to complete your app!\n",
    "\n",
    "Fork the [repl](https://repl.it/@datadesigns/mixtape) to get started."
   ]
  },
  {
   "cell_type": "code",
   "execution_count": 8,
   "metadata": {
    "slideshow": {
     "slide_type": "-"
    },
    "tags": [
     "remove-input"
    ]
   },
   "outputs": [
    {
     "data": {
      "text/html": [
       "<iframe height=\"1000px\" width=\"100%\" src=\"https://repl.it/@datadesigns/mixtape?lite=true&outputonly=1\" scrolling=\"no\" frameborder=\"no\" allowtransparency=\"true\" allowfullscreen=\"true\" sandbox=\"allow-forms allow-pointer-lock allow-popups allow-same-origin allow-scripts allow-modals\"></iframe>\n"
      ],
      "text/plain": [
       "<IPython.core.display.HTML object>"
      ]
     },
     "metadata": {},
     "output_type": "display_data"
    }
   ],
   "source": [
    "%%html\n",
    "<iframe height=\"1000px\" width=\"100%\" src=\"https://repl.it/@datadesigns/mixtape?lite=true&outputonly=1\" scrolling=\"no\" frameborder=\"no\" allowtransparency=\"true\" allowfullscreen=\"true\" sandbox=\"allow-forms allow-pointer-lock allow-popups allow-same-origin allow-scripts allow-modals\"></iframe>"
   ]
  },
  {
   "cell_type": "markdown",
   "metadata": {
    "slideshow": {
     "slide_type": "slide"
    }
   },
   "source": [
    "## Python code overview\n",
    "\n",
    "Let's take a quick look at the `.py` files in the repl; most of it should look familiar, or similar to what we've seen before.\n",
    "\n",
    "- `main.py` serves a `flask` app with a single page, and does some processing for `POST` requests\n",
    "- `auth.py` has somewhere to put an `access_token` should we want to\n",
    "- `mixtape.py` contains `tracks_detail`, which is imported into `main.py` and used by `render_template()` \n",
    "- `tracks.py` has functions to fetch data from the Spotify API, and to extract summary information from it\n",
    "- `votes.py` has `reset_votes()` and `log_user_choice()` functions, which modify the `replit` database\n"
   ]
  },
  {
   "cell_type": "markdown",
   "metadata": {
    "slideshow": {
     "slide_type": "slide"
    }
   },
   "source": [
    "## Templates overview\n",
    "\n",
    "- our `flask` app will use the `index.html` template to create our page\n",
    "- the header and footer can be modified within `base.html`\n",
    "- `index.html` uses `{% include ... }` to incorporate `top_section.html` and `tracks_section.html`\n",
    "- `top_section` has no Jinja templating logic, i.e. dynamic elements to it\n",
    "- `tracks_section` has Jinja statements for the voting buttons but not track information"
   ]
  },
  {
   "cell_type": "markdown",
   "metadata": {
    "slideshow": {
     "slide_type": "slide"
    }
   },
   "source": [
    "## Things to do\n",
    "\n",
    "First of all, work in `mixtape.py`:\n",
    "\n",
    "- use the `tracks.get_track_data()` function with a valid `access_token` and some `track_id`s of your choice to **fetch data from Spotify** (six is a good number of tracks)\n",
    "- write this data to the **`replit` database** so it can be retrieved in future without needing to request from the API again\n",
    "- use `tracks.track_summary()` to **extract data to display** on the page, assigning it to `tracks_detail`\n",
    "\n",
    "Then, work in `tracks_section.html`:\n",
    "\n",
    "- **modify the template** to display this data in the cards using Jinja statements\n",
    "\n",
    "Finally, see if you can add some different styling to the app. We'll take a look at how to do this now.\n",
    "\n"
   ]
  },
  {
   "cell_type": "markdown",
   "metadata": {
    "slideshow": {
     "slide_type": "slide"
    }
   },
   "source": [
    "## Bootstrap styling\n",
    "\n",
    "You'll notice in `base.html` that several **stylesheets** are imported, and that these can be found in the `/static` folder. \n",
    "\n",
    "- `bootstrap.css` was generated using the [bootstrap.build](https://bootstrap.build/themes) service, using the [Sandstone theme](https://bootstrap.build/app/project/UroRGaxfXxdg)\n",
    "    - the `_variables.scss` file allows you to retainany customizations made with the tool\n",
    "- the [Album](https://getbootstrap.com/docs/4.0/examples/album/) example from the Bootstrap site was used as a basis for the page design and its CSS is in `album.css`  \n",
    "- `custom.css` includes some further customizations, to fonts and the design of the cards"
   ]
  },
  {
   "cell_type": "markdown",
   "metadata": {
    "slideshow": {
     "slide_type": "slide"
    }
   },
   "source": [
    "## Google fonts\n",
    "\n",
    "Take a look at `custom.css`; at the top you'll see several `import` statements, and then references to the imported fonts in the `font-family` attributes of some of the CSS class declarations:\n",
    "\n",
    "```css\n",
    "h1, h2 {\n",
    "     font-family: 'Rock Salt', cursive;\n",
    "     ...\n",
    "}\n",
    "```"
   ]
  },
  {
   "cell_type": "markdown",
   "metadata": {
    "slideshow": {
     "slide_type": "slide"
    }
   },
   "source": [
    "## CSS variables\n",
    "\n",
    "```css\n",
    "h1, h2 {\n",
    "     ...\n",
    "     color: var(--dark);\n",
    "}\n",
    "```\n",
    "\n",
    "- notice the use of a **CSS variable** to apply the `--dark` color (defined in and **inherited** from `bootstrap.css`)"
   ]
  }
 ],
 "metadata": {
  "celltoolbar": "Slideshow",
  "kernelspec": {
   "display_name": "Python 3",
   "language": "python",
   "name": "python3"
  },
  "language_info": {
   "codemirror_mode": {
    "name": "ipython",
    "version": 3
   },
   "file_extension": ".py",
   "mimetype": "text/x-python",
   "name": "python",
   "nbconvert_exporter": "python",
   "pygments_lexer": "ipython3",
   "version": "3.7.6"
  }
 },
 "nbformat": 4,
 "nbformat_minor": 4
}
