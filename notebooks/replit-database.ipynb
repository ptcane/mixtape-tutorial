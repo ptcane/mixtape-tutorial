{
 "cells": [
  {
   "cell_type": "markdown",
   "metadata": {
    "slideshow": {
     "slide_type": "slide"
    }
   },
   "source": [
    "# The repl.it database"
   ]
  },
  {
   "cell_type": "code",
   "execution_count": 14,
   "metadata": {
    "slideshow": {
     "slide_type": "skip"
    },
    "tags": [
     "remove"
    ]
   },
   "outputs": [
    {
     "name": "stdout",
     "output_type": "stream",
     "text": [
      "The dotenv extension is already loaded. To reload it, use:\n",
      "  %reload_ext dotenv\n",
      "4bb5f5a5e044498ab39bf1f8b4ad99be\n"
     ]
    }
   ],
   "source": [
    "import requests\n",
    "from requests.auth import HTTPBasicAuth\n",
    "import os\n",
    "\n",
    "%load_ext dotenv\n",
    "%dotenv\n",
    "\n",
    "client_id = os.getenv(\"CLIENT_ID\")\n",
    "client_secret = os.getenv(\"CLIENT_SECRET\")\n",
    "print(client_id)"
   ]
  },
  {
   "cell_type": "code",
   "execution_count": 15,
   "metadata": {
    "scrolled": true,
    "slideshow": {
     "slide_type": "skip"
    },
    "tags": [
     "remove"
    ]
   },
   "outputs": [
    {
     "name": "stdout",
     "output_type": "stream",
     "text": [
      "200\n",
      "BQA4hveFcWcUG_AR7Nc27ktX5-Yu61fw4qFKBJ7g1m9BDkJsoub1aUpY_6XUgXhm0ObV3fcS1iFKhScJFsM\n"
     ]
    }
   ],
   "source": [
    "response = requests.post('https://accounts.spotify.com/api/token', {    \n",
    "    'client_id': client_id,\n",
    "    'client_secret': client_secret,\n",
    "    'grant_type': 'client_credentials'\n",
    "})\n",
    "print(response.status_code)\n",
    "access_token = response.json()['access_token']\n",
    "\n",
    "print(access_token)"
   ]
  },
  {
   "cell_type": "markdown",
   "metadata": {
    "slideshow": {
     "slide_type": "slide"
    }
   },
   "source": [
    "## Database commands\n",
    "\n",
    "There's a simple **key:value store** associated with every repl. To work with it in Python, we first **import** the `db` module from `replit`:\n",
    "\n",
    "    from replit import db\n",
    "\n",
    "Then, we can:\n",
    "\n",
    "- **Set** values: `db['my_key'] = my_value`  \n",
    "- **Get** values: `my_variable = db['my_key']`  \n",
    "- **Delete** entries: `del db['my_key']`  \n",
    "- **List** the keys: `list(db.keys())`\n",
    "- **Clear** the database: `db.clear()`"
   ]
  },
  {
   "cell_type": "markdown",
   "metadata": {
    "slideshow": {
     "slide_type": "slide"
    }
   },
   "source": [
    "### repl.it code snippet\n",
    "\n",
    "Fork the [repl](https://repl.it/@datadesigns/mixtape-replit-database) and **copy your `access_token` into `main.py`** (you'll need to create a new one if it's more than an hour old).\n"
   ]
  },
  {
   "cell_type": "code",
   "execution_count": 16,
   "metadata": {
    "scrolled": true,
    "slideshow": {
     "slide_type": "slide"
    },
    "tags": [
     "remove-input"
    ]
   },
   "outputs": [
    {
     "data": {
      "text/html": [
       "<iframe height=\"800px\" width=\"100%\" src=\"https://repl.it/@datadesigns/mixtape-replit-database?lite=true\" scrolling=\"no\" frameborder=\"no\" allowtransparency=\"true\" allowfullscreen=\"true\" sandbox=\"allow-forms allow-pointer-lock allow-popups allow-same-origin allow-scripts allow-modals\"></iframe>\n"
      ],
      "text/plain": [
       "<IPython.core.display.HTML object>"
      ]
     },
     "metadata": {},
     "output_type": "display_data"
    }
   ],
   "source": [
    "%%html\n",
    "<iframe height=\"800px\" width=\"100%\" src=\"https://repl.it/@datadesigns/mixtape-replit-database?lite=true\" scrolling=\"no\" frameborder=\"no\" allowtransparency=\"true\" allowfullscreen=\"true\" sandbox=\"allow-forms allow-pointer-lock allow-popups allow-same-origin allow-scripts allow-modals\"></iframe>"
   ]
  },
  {
   "cell_type": "markdown",
   "metadata": {
    "slideshow": {
     "slide_type": "slide"
    }
   },
   "source": [
    "## Code walkthrough\n",
    "\n",
    "```python\n",
    "from auth import access_token\n",
    "```\n",
    "- we've imported `access_token` from `auth.py` (in which we copied our own token), and can now use `access_token` in our subequent code\n",
    "\n",
    "```python\n",
    "from replit import db\n",
    "```\n",
    "\n",
    "- we've imported the `db` module from `replit` so we can use its methods to work with the database\n",
    "\n",
    "```python\n",
    "from tracks import get_track_data, track_summary\n",
    "```\n",
    "\n",
    "- we've imported some functions from `tracks.py` which we'll use later\n"
   ]
  },
  {
   "cell_type": "markdown",
   "metadata": {
    "slideshow": {
     "slide_type": "slide"
    }
   },
   "source": [
    "```python\n",
    "db.clear()\n",
    "```\n",
    "\n",
    "- the `.clear()` method will remove all content (keys and values) from the database\n",
    "    - remove or comment out this line if you want to re-run `main.py` without doing so...\n",
    "    \n",
    "```python    \n",
    "track_id = '2H7PHVdQ3mXqEHXcvclTB0' #'7azo4rpSUh8nXgtonC6Pkq'\n",
    "track_data = get_track_data(access_token, track_id)\n",
    "```\n",
    "\n",
    "- we assign a value to `track_id` (the commented out one is an alternative for you to try), and then call the `get_track_data()` function, using `access_token` and `track_id` as **arguments**, assigning the result to `track_data`\n",
    "\n"
   ]
  },
  {
   "cell_type": "markdown",
   "metadata": {
    "slideshow": {
     "slide_type": "slide"
    }
   },
   "source": [
    "### `get_track_data()` function\n",
    "\n",
    "Take a look at `tracks.py`; you'll see the **function definitions** for the two functions we imported from there into `main.py`.  \n",
    "\n",
    "- `get_track_data()` will attempt to collect the track data from the Spotify API as we have seen previously, using the `access_token` and `track_id` supplied to it  \n",
    "\n",
    "    - if successful, `track_data` in `main.py` will hold the returned data  \n",
    "    - if not, an error will be printed and the `track_data` value will be `None`"
   ]
  },
  {
   "cell_type": "markdown",
   "metadata": {
    "slideshow": {
     "slide_type": "slide"
    }
   },
   "source": [
    "### Writing to the database\n",
    "\n",
    "```python\n",
    "if track_data:\n",
    "    db[track_id] = track_data\n",
    "```\n",
    "\n",
    "- if the `track_data` value is '**truthy**' (by this we mean not empty, zero, `False` or `None`), the following line will be executed, and `track_data` will be written to the database, as the value associated with the key of `track_id`\n",
    "- if `get_track_data()` returned `None`, `track_data` would therefore be `None`, and the line underneath the `if` statement will be skipped"
   ]
  },
  {
   "cell_type": "markdown",
   "metadata": {
    "slideshow": {
     "slide_type": "slide"
    }
   },
   "source": [
    "### Reading from the database\n",
    "\n",
    "```python\n",
    "print(list(db.keys()))\n",
    "\n",
    "print(track_summary(db[track_id]))\n",
    "```\n",
    "\n",
    "- we used the `.keys()` method to fetch a list of the database **keys**; the object returned by this method is an **iterable**, on which we need to use the Python built-in `list()` function to get the keys themselves\n",
    "\n",
    "- we called the `track_summary()` function, using the value from the database associated with the key equal to `track_id`, i.e. the data previously fetched from the API and stored there  \n",
    "\n",
    "    - this function would throw an error if the key isn't in the database  \n",
    "    - we `print()` the value returned by `track_summary()` function\n"
   ]
  },
  {
   "cell_type": "markdown",
   "metadata": {
    "slideshow": {
     "slide_type": "slide"
    }
   },
   "source": [
    "### `track_summary()` function\n",
    "\n",
    "We can see what `track_summary()` will do by looking at the code in `tracks.py`:\n",
    "\n",
    "```python\n",
    "summary = {\n",
    "        'track_name': track_data['name'],\n",
    "        'artist_name': track_data['artists'][0]['name'],\n",
    "        'album_name': track_data['album']['name'],\n",
    "        'image_url': track_data['album']['images'][0]['url'],\n",
    "    }\n",
    "```\n",
    "\n",
    "- the function extracts specific **features** nested in `track_data` (which contained everything in the response sent by the Spotify API to our request for the given track), and returns a dictionary  \n",
    "\n",
    "We could have extracted these features *before* writing to the database and then only storing this smaller dataset - but by storing *all* of the data from the API response, we could change which features we want to use later on, without having to make another request to the API."
   ]
  }
 ],
 "metadata": {
  "celltoolbar": "Slideshow",
  "kernelspec": {
   "display_name": "Python 3",
   "language": "python",
   "name": "python3"
  },
  "language_info": {
   "codemirror_mode": {
    "name": "ipython",
    "version": 3
   },
   "file_extension": ".py",
   "mimetype": "text/x-python",
   "name": "python",
   "nbconvert_exporter": "python",
   "pygments_lexer": "ipython3",
   "version": "3.7.6"
  },
  "rise": {
   "scroll": true,
   "theme": "white"
  }
 },
 "nbformat": 4,
 "nbformat_minor": 4
}
