{
 "cells": [
  {
   "cell_type": "markdown",
   "metadata": {
    "slideshow": {
     "slide_type": "slide"
    }
   },
   "source": [
    "# Introduction to web APIs"
   ]
  },
  {
   "cell_type": "markdown",
   "metadata": {
    "slideshow": {
     "slide_type": "slide"
    }
   },
   "source": [
    "## What's an API?\n",
    "\n",
    "**API** stands for **Application Programming Interface**\n",
    "\n",
    "... and here's a definition:\n",
    "\n",
    "> A set of functions and procedures allowing the creation of applications that access the features or data of an operating system, application, or other service.\n",
    "\n",
    "*Source: Oxford Languages via [Google](https://www.google.com/search?q=api+definition)*"
   ]
  },
  {
   "cell_type": "markdown",
   "metadata": {
    "slideshow": {
     "slide_type": "slide"
    }
   },
   "source": [
    "## Web APIs\n",
    "\n",
    "Web APIs are used to exchange data via the internet, and typically have the following characteristics:\n",
    "\n",
    "- resources are accessed via URLs with the structure:  \n",
    "    `{base_url}{endpoint}`\n",
    "\n",
    "- support data transfer using standard HTTP methods:  \n",
    "    `GET`, `POST`, `PUT`, and `DELETE` \n",
    "    \n",
    "- data is transferred in the following formats:  \n",
    "    `JSON`(most common and what we'll focus on), `XML` or `YAML`\n"
   ]
  },
  {
   "cell_type": "markdown",
   "metadata": {
    "slideshow": {
     "slide_type": "slide"
    }
   },
   "source": [
    "### API URLs: Example\n",
    "\n",
    "`https://api.spotify.com/v1` is the **base URL** for the main Spotify API, onto which numerous **endpoints** can be added, such as:\n",
    "\n",
    "`/browse/categories`  \n",
    "`/artists/albums`  \n",
    "`/tracks/{id}`  \n",
    "\n",
    "- the URL itself may be used to target more specific data\n",
    "- You may see the term `URI` used instead (Uniform Resource Identifier)"
   ]
  },
  {
   "cell_type": "markdown",
   "metadata": {
    "slideshow": {
     "slide_type": "slide"
    }
   },
   "source": [
    "## `GET` and `POST` requests\n",
    "Our focus will be on `GET` and `POST` methods (also known as **requests**), which are the methods typcially needed to **access data** from a web API.\n",
    "\n",
    "- `GET`: used to **request data** from the given resource  \n",
    "- `POST`: used to **send data** to create or update a resource"
   ]
  },
  {
   "cell_type": "markdown",
   "metadata": {
    "slideshow": {
     "slide_type": "slide"
    }
   },
   "source": [
    "### `GET` requests\n",
    "\n",
    "`GET` requests can contain a **query string** of `key=value` pairs in the URL to request more specific data  \n",
    "\n",
    "- for example: `https://api.spotify.com/v1/browse/new-releases?country=SE&limit=10`\n",
    "\n",
    "- the endpoint is followed by a `?` and `key=value` pairs, each separated by `&`\n",
    "\n",
    "- these URLs can be cached, bookmarked, or held in the browser history; *not secure*"
   ]
  },
  {
   "cell_type": "markdown",
   "metadata": {
    "slideshow": {
     "slide_type": "slide"
    }
   },
   "source": [
    "### `POST` requests\n",
    "\n",
    "`POST` requests can send data within the **request body**  \n",
    "\n",
    "- not cached, more secure; we'll use these for **authorization** to access data via the API  \n",
    "\n",
    "- although we're sending data, the term **request** is usually appropariate since we require a **response**"
   ]
  }
 ],
 "metadata": {
  "celltoolbar": "Slideshow",
  "jupytext": {
   "formats": "ipynb,py:percent"
  },
  "kernelspec": {
   "display_name": "Python 3",
   "language": "python",
   "name": "python3"
  },
  "language_info": {
   "codemirror_mode": {
    "name": "ipython",
    "version": 3
   },
   "file_extension": ".py",
   "mimetype": "text/x-python",
   "name": "python",
   "nbconvert_exporter": "python",
   "pygments_lexer": "ipython3",
   "version": "3.7.6"
  },
  "rise": {
   "scroll": true,
   "theme": "white"
  }
 },
 "nbformat": 4,
 "nbformat_minor": 4
}
