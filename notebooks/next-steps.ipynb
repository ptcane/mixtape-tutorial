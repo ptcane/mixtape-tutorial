{
 "cells": [
  {
   "cell_type": "markdown",
   "metadata": {
    "slideshow": {
     "slide_type": "slide"
    }
   },
   "source": [
    "# Next steps"
   ]
  },
  {
   "cell_type": "markdown",
   "metadata": {
    "slideshow": {
     "slide_type": "slide"
    }
   },
   "source": [
    "## Follow-on tutorial\n",
    "\n",
    "If you enjoyed the project and would like to go further, check out the [Seeder app](https://seeder.datadesigns.repl.co/){target=_blank} and [tutorial](https://seeder-tutorial.datadesigns.repl.co/){target=_blank}, where we:\n",
    "\n",
    "- automatically **refresh our access token** when required\n",
    "- automatically **refresh our tracks** each day based on previous votes\n",
    "- add **repl.it login functionality** so users can only vote once each day\n",
    "- handle **multiple concurrent users** with Flask `session` logic\n",
    "- create **data visualisations** using track features data from Spotify"
   ]
  },
  {
   "cell_type": "markdown",
   "metadata": {
    "slideshow": {
     "slide_type": "slide"
    }
   },
   "source": [
    "## Get in touch\n",
    "\n",
    "Finally, please feel free [contact me](https://www.datadesigns.co.uk/contact/){target=_blank} if you have any questions, comments, or feedback on the tutorial.\n",
    "\n",
    "### Adios amigos!"
   ]
  }
 ],
 "metadata": {
  "celltoolbar": "Slideshow",
  "kernelspec": {
   "display_name": "Python 3",
   "language": "python",
   "name": "python3"
  },
  "language_info": {
   "codemirror_mode": {
    "name": "ipython",
    "version": 3
   },
   "file_extension": ".py",
   "mimetype": "text/x-python",
   "name": "python",
   "nbconvert_exporter": "python",
   "pygments_lexer": "ipython3",
   "version": "3.8.5"
  }
 },
 "nbformat": 4,
 "nbformat_minor": 4
}
