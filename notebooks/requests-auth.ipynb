{
 "cells": [
  {
   "cell_type": "markdown",
   "metadata": {
    "slideshow": {
     "slide_type": "slide"
    }
   },
   "source": [
    "# Accessing web APIs with `requests`"
   ]
  },
  {
   "cell_type": "code",
   "execution_count": 15,
   "metadata": {
    "slideshow": {
     "slide_type": "skip"
    },
    "tags": [
     "remove"
    ]
   },
   "outputs": [],
   "source": [
    "%load_ext dotenv\n",
    "%dotenv"
   ]
  },
  {
   "cell_type": "markdown",
   "metadata": {
    "slideshow": {
     "slide_type": "slide"
    }
   },
   "source": [
    "## Authorization\n",
    "\n",
    "Most APIs require users to **identify** themselves, and have **limits on the volume and frequency of requests** each user can make, in order to:\n",
    "\n",
    "- prevent excessive or malicious use overloading the server\n",
    "- ensure the API remains available for genuine users\n",
    "\n",
    "This typically requires users to register, upon which they're provided with **credentials**, typically in the form of a unique `id` and an accompanying `key` or `secret`."
   ]
  },
  {
   "cell_type": "markdown",
   "metadata": {
    "slideshow": {
     "slide_type": "slide"
    }
   },
   "source": [
    "### Obtaining Spotify API credentials\n",
    "\n",
    "We'll be using the **Spotify API** throughout the tutorial. In order to use it, you'll need a Spotify account. \n",
    "\n",
    "[Log in or sign up (free)](https://developer.spotify.com/dashboard/){target=_blank}\n",
    "\n",
    "Follow `CREATE AN APP` from the Dashboard, then copy your `Client ID` and `Client Secret` to somewhere handy. \n",
    "\n",
    "![dashboard](images/dashboard.png)"
   ]
  },
  {
   "cell_type": "markdown",
   "metadata": {
    "slideshow": {
     "slide_type": "slide"
    }
   },
   "source": [
    "### Authentication\n",
    "\n",
    "In addition to the `id` and `secret` we've just gathered, Spotify requires us to **authenticate** prior to requesting data. \n",
    "\n",
    "There are several options available; we'll be using the [Client Credentials Flow](https://developer.spotify.com/documentation/general/guides/authorization-guide/#client-credentials-flow){target=_blank}. This will give us access to masses of data about the contents of the Spotify catalogue, but without access to personalized information such as user playlists.\n",
    "\n",
    "We'll send the `id` and `secret`to the API using a `POST` request, and be sent an `access_token` in the response."
   ]
  },
  {
   "cell_type": "markdown",
   "metadata": {
    "slideshow": {
     "slide_type": "slide"
    }
   },
   "source": [
    "### Obtaining an API `access_token`\n",
    "\n",
    "The [documentation](https://developer.spotify.com/documentation/general/guides/authorization-guide/#client-credentials-flow){target=_blank} tells us that we'll need to:\n",
    "\n",
    "- send a `POST` request to `https://accounts.spotify.com/api/token`\n",
    "- include `'grant_type': 'client_credentials'` in the request **body**\n",
    "- include `'Authorization' : 'Basic [base64 encoded client_id:client_secret]'` in the **header**\n",
    "\n",
    "Fortunately, the `requests.post()` and `HTTPBasicAuth` functions will simplify this for us.\n",
    "\n"
   ]
  },
  {
   "cell_type": "markdown",
   "metadata": {
    "slideshow": {
     "slide_type": "slide"
    }
   },
   "source": [
    "### repl.it code snippet\n",
    "\n",
    "First of all, [fork the repl](https://repl.it/@datadesigns/mixtape-requests-auth){target=_blank}. Next, create a new file called `.env`, and then enter your credentials in the format shown in `.env.example`.\n",
    "\n",
    "- *`.env` files aren't shared when a fork of a repl is made; they allow you to store values you don't want to share*\n",
    "\n",
    "`main.py` will be executed when you hit `Run`. If all is well, you should see a dictionary printed in the console at the bottom.\n",
    "\n",
    "!!! warning \"Access Token\" \n",
    "\n",
    "    **Take a copy of your `access_token`** from your repl's console; you'll need it later to get data from    the API. \n",
    "    \n",
    "    Tokens are  **valid for one hour**, so come back to your fork of the repl to generate another one if needed later on. "
   ]
  },
  {
   "cell_type": "code",
   "execution_count": 9,
   "metadata": {
    "scrolled": true,
    "slideshow": {
     "slide_type": "slide"
    },
    "tags": [
     "remove-input"
    ]
   },
   "outputs": [
    {
     "data": {
      "text/html": [
       "<iframe height=\"800px\" width=\"100%\" src=\"https://repl.it/@datadesigns/mixtape-requests-auth?lite=false\" scrolling=\"no\" frameborder=\"no\" allowtransparency=\"true\" allowfullscreen=\"true\" sandbox=\"allow-forms allow-pointer-lock allow-popups allow-same-origin allow-scripts allow-modals\"></iframe>\n"
      ],
      "text/plain": [
       "<IPython.core.display.HTML object>"
      ]
     },
     "metadata": {},
     "output_type": "display_data"
    }
   ],
   "source": [
    "%%html\n",
    "<iframe height=\"800px\" width=\"100%\" src=\"https://repl.it/@datadesigns/mixtape-requests-auth?lite=true\" scrolling=\"no\" frameborder=\"no\" allowtransparency=\"true\" allowfullscreen=\"true\" sandbox=\"allow-forms allow-pointer-lock allow-popups allow-same-origin allow-scripts allow-modals\"></iframe>"
   ]
  },
  {
   "cell_type": "markdown",
   "metadata": {
    "slideshow": {
     "slide_type": "slide"
    }
   },
   "source": [
    "## Code walkthrough\n",
    "\n",
    "Let's go through `main.py` and see what happened...\n",
    "\n",
    "### Accessing our credentials"
   ]
  },
  {
   "cell_type": "code",
   "execution_count": 20,
   "metadata": {
    "slideshow": {
     "slide_type": "-"
    }
   },
   "outputs": [],
   "source": [
    "import requests\n",
    "from requests.auth import HTTPBasicAuth\n",
    "import os\n",
    "\n",
    "client_id = os.getenv(\"CLIENT_ID\")\n",
    "client_secret = os.getenv(\"CLIENT_SECRET\")"
   ]
  },
  {
   "cell_type": "markdown",
   "metadata": {},
   "source": [
    "- we imported the `requests` and `os` packages, and the `HTTPBasicAuth` submodule\n",
    "- we used the `.getenv()` method to collect our credentials from the `.env` file"
   ]
  },
  {
   "cell_type": "markdown",
   "metadata": {
    "slideshow": {
     "slide_type": "slide"
    }
   },
   "source": [
    "### Defining components for the request"
   ]
  },
  {
   "cell_type": "markdown",
   "metadata": {},
   "source": [
    "We can use the Python `help()` function to see the docstring for `requests.post()`:"
   ]
  },
  {
   "cell_type": "code",
   "execution_count": 41,
   "metadata": {},
   "outputs": [
    {
     "name": "stdout",
     "output_type": "stream",
     "text": [
      "Help on function post in module requests.api:\n",
      "\n",
      "post(url, data=None, json=None, **kwargs)\n",
      "    Sends a POST request.\n",
      "    \n",
      "    :param url: URL for the new :class:`Request` object.\n",
      "    :param data: (optional) Dictionary, list of tuples, bytes, or file-like\n",
      "        object to send in the body of the :class:`Request`.\n",
      "    :param json: (optional) json data to send in the body of the :class:`Request`.\n",
      "    :param \\*\\*kwargs: Optional arguments that ``request`` takes.\n",
      "    :return: :class:`Response <Response>` object\n",
      "    :rtype: requests.Response\n",
      "\n"
     ]
    }
   ],
   "source": [
    "help(requests.post)"
   ]
  },
  {
   "cell_type": "code",
   "execution_count": null,
   "metadata": {
    "slideshow": {
     "slide_type": "slide"
    }
   },
   "outputs": [],
   "source": [
    "url = 'https://accounts.spotify.com/api/token'\n",
    "data = {'grant_type': 'client_credentials'}\n",
    "auth=HTTPBasicAuth(client_id, client_secret)"
   ]
  },
  {
   "cell_type": "markdown",
   "metadata": {},
   "source": [
    "- our `url` is the one given by the API documentation\n",
    "- `data` is the `parameter:value` pair required to be in the body\n",
    "- `auth` is an optional **keyword argument**\n",
    "- the `HTTPBasicAuth` method has done the required **encoding** and **formatting** of the credentials for us"
   ]
  },
  {
   "cell_type": "markdown",
   "metadata": {
    "slideshow": {
     "slide_type": "slide"
    }
   },
   "source": [
    "### Making a `POST` request"
   ]
  },
  {
   "cell_type": "code",
   "execution_count": 43,
   "metadata": {},
   "outputs": [],
   "source": [
    "response = requests.post(url, data=data, auth=auth)\n",
    "response.ok"
   ]
  },
  {
   "cell_type": "markdown",
   "metadata": {},
   "source": [
    "- we used the `.post()` method of `requests` with the arguments we had defined, assigning the returned object to `response`\n",
    "\n",
    "- the `.ok` attribute of the `Response` object is `True`, meaning that the response was successful"
   ]
  },
  {
   "cell_type": "markdown",
   "metadata": {
    "slideshow": {
     "slide_type": "slide"
    }
   },
   "source": [
    "### Accessing response data"
   ]
  },
  {
   "cell_type": "code",
   "execution_count": 28,
   "metadata": {
    "slideshow": {
     "slide_type": "-"
    }
   },
   "outputs": [
    {
     "data": {
      "text/plain": [
       "{'access_token': 'BQA5XobojGmQ22qGfcf1XSX1xTJD6pH6oeltC5HtX5fML8ps_uDp1U74ybc5M45CmmRf8DX8FAFjOivOae4',\n",
       " 'token_type': 'Bearer',\n",
       " 'expires_in': 3600,\n",
       " 'scope': ''}"
      ]
     },
     "execution_count": 28,
     "metadata": {},
     "output_type": "execute_result"
    }
   ],
   "source": [
    "response.json()"
   ]
  },
  {
   "cell_type": "markdown",
   "metadata": {
    "slideshow": {
     "slide_type": "-"
    }
   },
   "source": [
    "- the `.json()` method of the `response` object returned by the API converts the included **JSON object** into a Python dictionary\n",
    "- the `key:value` pairs include the `access_token` we need; highlight and right-click it to copy (usual shortcuts don't work in the console)\n",
    "- also note the `expires_in` value - this is the time in seconds (i.e. one hour) that the token will remain usable for"
   ]
  },
  {
   "cell_type": "markdown",
   "metadata": {
    "slideshow": {
     "slide_type": "slide"
    }
   },
   "source": [
    "### Status codes"
   ]
  },
  {
   "cell_type": "code",
   "execution_count": 29,
   "metadata": {
    "slideshow": {
     "slide_type": "-"
    }
   },
   "outputs": [
    {
     "data": {
      "text/plain": [
       "200"
      ]
     },
     "execution_count": 29,
     "metadata": {},
     "output_type": "execute_result"
    }
   ],
   "source": [
    "response.status_code"
   ]
  },
  {
   "cell_type": "markdown",
   "metadata": {},
   "source": [
    "The `.status_code` attribute indicates whether the request was successful, and if not, what went wrong.\n",
    "\n",
    "- in short, `200` is good news, as is anything in the `200`s \n",
    "- codes in the `400`s typcially indicate an issue with your code or parameters\n",
    "- codes in the `500`s indicate something is malfunctioning on the server\n",
    "\n",
    "[More about response codes](https://developer.mozilla.org/en-US/docs/Web/HTTP/Status){target=_blank}"
   ]
  },
  {
   "cell_type": "markdown",
   "metadata": {
    "slideshow": {
     "slide_type": "slide"
    }
   },
   "source": [
    "## JSON data structures\n",
    "\n",
    "JSON (**JavaScript Object Notation**) is the most popular data format used by web APIs.\n",
    "\n",
    "Fortunately for Python programmers, it is fairly straightforward to map JSON to equivalent Python data structures, data types and values (and as shown above, modules which can do this for us).\n",
    "\n",
    "- **JSON objects** are much like **Python dictionaries**, with comma-separated `key:value` pairs inside `{` braces `}`\n",
    "- **JSON arrays** are much like **Python lists**, with an ordered collection of comma-separated values inside `[` brackets `]`\n",
    "\n",
    "The JSON values `true`, `false` and `null` are equivalent to the Python values `True`, `False` and `None` respectively."
   ]
  }
 ],
 "metadata": {
  "celltoolbar": "Edit Metadata",
  "kernelspec": {
   "display_name": "Python 3",
   "language": "python",
   "name": "python3"
  },
  "language_info": {
   "codemirror_mode": {
    "name": "ipython",
    "version": 3
   },
   "file_extension": ".py",
   "mimetype": "text/x-python",
   "name": "python",
   "nbconvert_exporter": "python",
   "pygments_lexer": "ipython3",
   "version": "3.8.5"
  },
  "rise": {
   "scroll": true,
   "theme": "white"
  }
 },
 "nbformat": 4,
 "nbformat_minor": 4
}
