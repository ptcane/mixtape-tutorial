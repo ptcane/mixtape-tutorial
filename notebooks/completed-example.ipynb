{
 "cells": [
  {
   "cell_type": "markdown",
   "metadata": {
    "slideshow": {
     "slide_type": "slide"
    }
   },
   "source": [
    "# Completed Example"
   ]
  },
  {
   "cell_type": "markdown",
   "metadata": {
    "slideshow": {
     "slide_type": "slide"
    }
   },
   "source": [
    "## Example app\n",
    "\n",
    "Here's a [repl](https://repl.it/@datadesigns/mixtape-example) with `mixtape.py` completed, and the cards filled using data previously written to the `replit` database:"
   ]
  },
  {
   "cell_type": "code",
   "execution_count": 3,
   "metadata": {
    "tags": [
     "remove-input"
    ]
   },
   "outputs": [
    {
     "data": {
      "text/html": [
       "<iframe height=\"1000px\" width=\"100%\" src=\"https://repl.it/@datadesigns/mixtape-example?lite=true&outputonly=1\" scrolling=\"no\" frameborder=\"no\" allowtransparency=\"true\" allowfullscreen=\"true\" sandbox=\"allow-forms allow-pointer-lock allow-popups allow-same-origin allow-scripts allow-modals\"></iframe>\n"
      ],
      "text/plain": [
       "<IPython.core.display.HTML object>"
      ]
     },
     "metadata": {},
     "output_type": "display_data"
    }
   ],
   "source": [
    "%%html\n",
    "<iframe height=\"1000px\" width=\"100%\" src=\"https://repl.it/@datadesigns/mixtape-example?lite=true&outputonly=1\" scrolling=\"no\" frameborder=\"no\" allowtransparency=\"true\" allowfullscreen=\"true\" sandbox=\"allow-forms allow-pointer-lock allow-popups allow-same-origin allow-scripts allow-modals\"></iframe>"
   ]
  },
  {
   "cell_type": "markdown",
   "metadata": {
    "slideshow": {
     "slide_type": "slide"
    }
   },
   "source": [
    "## Code walkthrough\n",
    "\n",
    "Most of the remaining code was added to the following files:  \n",
    "\n",
    "- **`mixtape.py`**: so that `tracks_detail`, imported into `main.py`, contains the necessary data for our template  \n",
    "- **`templates/track_section.html`**: so that the cards for each track are automatically populated using this data \n",
    "\n",
    "Collection of the data from the API of course requires a valid `access_token`, which was updated in `auth.py`.  \n",
    "\n",
    "The `reset_votes()` statement in `main.py` has also been commented out after the first execution of `main.py`, so that the vote counts are retained even if the repl is re-started.\n",
    "\n"
   ]
  },
  {
   "cell_type": "markdown",
   "metadata": {
    "slideshow": {
     "slide_type": "slide"
    }
   },
   "source": [
    "## Data collection\n",
    "\n",
    "Let's go through `mixtape.py`:\n",
    "\n",
    "```python\n",
    "\n",
    "from auth import access_token\n",
    "from tracks import get_track_data, track_summary\n",
    "from replit import db\n",
    "\n",
    "track_ids = [...]\n",
    "tracks_detail = []\n",
    "\n",
    "```\n",
    "\n",
    "- we've imported the various components we require from several other `.py` files\n",
    "- we've specified six `track_ids` that we want to collect data for\n",
    "- we've created an empty list called `tracks_detail`     "
   ]
  },
  {
   "cell_type": "markdown",
   "metadata": {
    "slideshow": {
     "slide_type": "slide"
    }
   },
   "source": [
    "```python\n",
    "\n",
    "for track_id in track_ids:\n",
    "    \n",
    "    if track_id in db.keys():\n",
    "        data = db[track_id]       \n",
    "    else:\n",
    "        data = get_track_data(access_token, track_id)    \n",
    "    ...\n",
    "```\n",
    "    \n",
    "- we're going to **iterate** through each entry in `track_ids` using a `for` loop\n",
    "- we check to see if `track_id` is a key in the `db` (meaning it has been stored previously)\n",
    "- if it's in the `db` we collect the data from there\n",
    "- if not, we use `get_track_data()` to collect it from the Spotify API"
   ]
  },
  {
   "cell_type": "markdown",
   "metadata": {},
   "source": [
    "```python\n",
    "    ...\n",
    "    if not data:\n",
    "        print(f'Something went wrong with track {track_id}')\n",
    "\n",
    "    else:\n",
    "        tracks_detail.append(track_summary(data))\n",
    "```\n",
    "- we check to see if `data` is not \"truthy\", i.e. it is not `None`, empty, zero, etc (if there has been an issue with collecting the data from the API, `get_track_data()` would have returned `None`)\n",
    "- if `data` is truthy, we process it using `tracks_detail()` and `.append()` the result (which will be a dictionary) to our `tracks_detail` list, which is imported by `main.py`\n"
   ]
  },
  {
   "cell_type": "markdown",
   "metadata": {
    "slideshow": {
     "slide_type": "slide"
    }
   },
   "source": [
    "## Jinja template\n",
    "\n",
    "Take a look at `tracks_section.html` in `/templates`.\n",
    "\n",
    "```html\n",
    "{% for track in tracks_detail %}\n",
    "...\n",
    "<img class=\"card-img-top img-responsive full-width\" src=\"{{ track['image_url'] }}\">\n",
    "```\n",
    "\n",
    "The Jinja `for` statement was already in place, to create a card for each item in `tracks_detail`.\n",
    "\n",
    "- in the original file, `data-src` was used with the `holder.js` image placeholder service\n",
    "- here we use `src`, and the value is changed to use the `image_url` for the given `track`\n"
   ]
  },
  {
   "cell_type": "markdown",
   "metadata": {
    "slideshow": {
     "slide_type": "slide"
    }
   },
   "source": [
    "```html\n",
    "<p class=\"card-text\"> \n",
    "    <strong>{{ track['track_name'] }}</strong><br>\n",
    "    {{ track['artist_name'] }}\n",
    "</p>\n",
    "```\n",
    "\n",
    "- within the `card-text` paragraph, we've added the `track_name` and `artist_name` values from each `track` dictionary in `track_details`\n",
    "- we've used a `strong` tag to make the text for `artist_name` more prominent"
   ]
  },
  {
   "cell_type": "markdown",
   "metadata": {
    "slideshow": {
     "slide_type": "slide"
    }
   },
   "source": [
    "## Adios amigos!\n",
    "\n",
    "If you enjoyed the project and would like to go further, check out the [Seeder app](https://seeder.datadesigns.repl.co/) and [tutorial](https://seeder-tutorial.datadesigns.repl.co/), where we:\n",
    "\n",
    "- automatically **refresh our access token** when required\n",
    "- automatically **refresh our tracks** each day based on previous votes\n",
    "- add **repl.it login functionality** so users can only vote once each day\n",
    "- handle **multiple concurrent users** with Flask `session` logic\n",
    "- create **data visualisations** using track features data from Spotify\n",
    "\n",
    "Finally, please [get in touch](https://www.datadesigns.co.uk/contact/) with me if you have any questions, comments, or feedback. Cheers!"
   ]
  }
 ],
 "metadata": {
  "celltoolbar": "Slideshow",
  "kernelspec": {
   "display_name": "Python 3",
   "language": "python",
   "name": "python3"
  },
  "language_info": {
   "codemirror_mode": {
    "name": "ipython",
    "version": 3
   },
   "file_extension": ".py",
   "mimetype": "text/x-python",
   "name": "python",
   "nbconvert_exporter": "python",
   "pygments_lexer": "ipython3",
   "version": "3.8.5"
  }
 },
 "nbformat": 4,
 "nbformat_minor": 4
}
