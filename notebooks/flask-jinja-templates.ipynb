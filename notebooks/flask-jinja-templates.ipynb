{
 "cells": [
  {
   "cell_type": "markdown",
   "metadata": {
    "slideshow": {
     "slide_type": "slide"
    }
   },
   "source": [
    "# Flask Web Apps"
   ]
  },
  {
   "cell_type": "markdown",
   "metadata": {
    "slideshow": {
     "slide_type": "slide"
    }
   },
   "source": [
    "## Flask web framework\n",
    "\n",
    "`flask` is a Python package which can help you to:\n",
    "\n",
    "- quickly create dynamic web applications\n",
    "- add functionality with many extensions available\n",
    "- scale up in complexity when required\n",
    "\n",
    "It is a **lightweight web application framework** which is popular, flexible, and easy to get started with."
   ]
  },
  {
   "cell_type": "markdown",
   "metadata": {
    "slideshow": {
     "slide_type": "slide"
    }
   },
   "source": [
    "### 'Hello, World' example\n",
    "\n",
    "Take a look at [this repl](https://repl.it/@datadesigns/mixtape-flask-hello-world) to see how we can serve a web page with Flask:"
   ]
  },
  {
   "cell_type": "code",
   "execution_count": 12,
   "metadata": {
    "tags": [
     "remove-input"
    ]
   },
   "outputs": [
    {
     "data": {
      "text/html": [
       "<iframe height=\"600px\" width=\"100%\" src=\"https://repl.it/@datadesigns/mixtape-flask-hello-world?lite=true\" scrolling=\"no\" frameborder=\"no\" allowtransparency=\"true\" allowfullscreen=\"true\" sandbox=\"allow-forms allow-pointer-lock allow-popups allow-same-origin allow-scripts allow-modals\"></iframe>\n"
      ],
      "text/plain": [
       "<IPython.core.display.HTML object>"
      ]
     },
     "metadata": {},
     "output_type": "display_data"
    }
   ],
   "source": [
    "%%html\n",
    "<iframe height=\"600px\" width=\"100%\" src=\"https://repl.it/@datadesigns/mixtape-flask-hello-world?lite=true\" scrolling=\"no\" frameborder=\"no\" allowtransparency=\"true\" allowfullscreen=\"true\" sandbox=\"allow-forms allow-pointer-lock allow-popups allow-same-origin allow-scripts allow-modals\"></iframe>"
   ]
  },
  {
   "cell_type": "markdown",
   "metadata": {
    "slideshow": {
     "slide_type": "slide"
    }
   },
   "source": [
    "\n",
    "```python\n",
    "from flask import Flask\n",
    "app = Flask(__name__)\n",
    "```\n",
    "\n",
    "- we imported the `Flask` class definition, and assigned an instance of it to `app`\n",
    "\n",
    "Things we don't need to worry about for now, but:\n",
    "\n",
    "- `__name__`is a special Python variable which determines where Flask should look for files such as templates\n",
    "- `__main__` will be the value of `__name__` if this file is itself being run directly rather than by another file\n",
    "\n",
    "\n",
    "\n",
    "\n"
   ]
  },
  {
   "cell_type": "markdown",
   "metadata": {
    "slideshow": {
     "slide_type": "slide"
    }
   },
   "source": [
    "```python\n",
    "@app.route('/')\n",
    "```\n",
    "- this is a  **decorator**, which acts as a '**wrapper**' around the subsequent function\n",
    "- in short this tells Flask to use the function to determine what will be shown at the 'root URL', i.e. mysite.com**`/`**\n",
    "\n",
    "```python\n",
    "def index():\n",
    "    return 'Hello, World'\n",
    "```\n",
    "\n",
    "- our function returns some text, which is shown on the web page\n",
    "- it could be called anything, but usually `index` is used for the root URL\n"
   ]
  },
  {
   "cell_type": "markdown",
   "metadata": {
    "slideshow": {
     "slide_type": "slide"
    }
   },
   "source": [
    "```python\n",
    "if __name__ == '__main__':\n",
    "    app.run(host='0.0.0.0', debug=True)\n",
    "```\n",
    "\n",
    "- `__name__` will equal `__main__` because we are running the file directly (unimportant for now)\n",
    "- the `.run()` method of `app` will serve the page at the given `host` (required for replit)\n",
    "- `debug=True` means we can see changes in the page without running the code again\n",
    "\n",
    "*Try changing the 'Hello, World' text and refreshing the page.*"
   ]
  },
  {
   "cell_type": "markdown",
   "metadata": {
    "slideshow": {
     "slide_type": "slide"
    }
   },
   "source": [
    "## Jinja templates\n",
    "\n",
    "`jinja` is a Python package which is used for **templating**. We can use it to:\n",
    "\n",
    "- create reusable structures for web pages (such as the header and footer)\n",
    "- combine blocks of content into a single document or web page\n",
    "- conditionally include elements or specific data based on user inputs\n",
    "\n",
    "The **syntax** used in Jinja templates is **similar to Python**."
   ]
  },
  {
   "cell_type": "markdown",
   "metadata": {
    "slideshow": {
     "slide_type": "slide"
    }
   },
   "source": [
    "### Jinja syntax example\n",
    "\n",
    "This code snippet is taken from the example we'll see later, showing a part of the template where rows in a template are created based on data in a list of dictionaries:\n",
    "\n",
    "```html\n",
    "    {% for activity in activities %}\n",
    "    <tr>\n",
    "      <th scope=\"row\">{{ loop.index }}</th>\n",
    "      <td>{{ activity['activity'] }}</td>\n",
    "      <td>{{ activity['price'] }}</td>\n",
    "    </tr>\n",
    "    {% endfor %}\n",
    "\n",
    "```\n",
    "\n",
    "- we can see **statements** within `{% ... %}` tags (here designating a `for` loop)\n",
    "- we can see **expressions** within `{{ ... }}` tags (here looking up values in a dictionary)"
   ]
  },
  {
   "cell_type": "markdown",
   "metadata": {
    "slideshow": {
     "slide_type": "slide"
    }
   },
   "source": [
    "## Flask & Jinja templates\n",
    "\n",
    "Rather than our page function to simply return text, we can use the `flask.render_template()` function to:\n",
    "\n",
    "- return a jinja template instead to be displayed (which itself may incorporate other templates)\n",
    "- pass Python data structures to be used by that template (such as lists and dictionaries)\n",
    "\n",
    "This is a powerful combination which is central to making our web pages **dynamic**.\n"
   ]
  },
  {
   "cell_type": "markdown",
   "metadata": {
    "slideshow": {
     "slide_type": "slide"
    }
   },
   "source": [
    "### Code walkthrough - Flask\n",
    "\n",
    "Here's a Flask example which uses Jinja templating, including the code we've just seen:  \n",
    "\n",
    "[fork the repl](https://repl.it/@datadesigns/mixtape-flask-jinja#main.py)"
   ]
  },
  {
   "cell_type": "code",
   "execution_count": 17,
   "metadata": {
    "tags": [
     "remove-input"
    ]
   },
   "outputs": [
    {
     "data": {
      "text/html": [
       "<iframe height=\"900px\" width=\"100%\" src=\"https://repl.it/@datadesigns/mixtape-flask-jinja?lite=true\" scrolling=\"no\" frameborder=\"no\" allowtransparency=\"true\" allowfullscreen=\"true\" sandbox=\"allow-forms allow-pointer-lock allow-popups allow-same-origin allow-scripts allow-modals\"></iframe>\n"
      ],
      "text/plain": [
       "<IPython.core.display.HTML object>"
      ]
     },
     "metadata": {},
     "output_type": "display_data"
    }
   ],
   "source": [
    "%%html\n",
    "<iframe height=\"900px\" width=\"100%\" src=\"https://repl.it/@datadesigns/mixtape-flask-jinja?lite=true\" scrolling=\"no\" frameborder=\"no\" allowtransparency=\"true\" allowfullscreen=\"true\" sandbox=\"allow-forms allow-pointer-lock allow-popups allow-same-origin allow-scripts allow-modals\"></iframe>"
   ]
  },
  {
   "cell_type": "markdown",
   "metadata": {
    "slideshow": {
     "slide_type": "slide"
    }
   },
   "source": [
    "```python\n",
    "site_name = 'Bucket List'\n",
    "activities = []\n",
    "\n",
    "for i in range(5):\n",
    "    resp = requests.get('https://www.boredapi.com/api/activity?type=recreational')\n",
    "    activities.append(resp.json())\n",
    "```\n",
    "\n",
    "- we've set `site_name` to a string, which we'll use in our web page\n",
    "- we've used `requests.get()` as seen previously to collect data from an API\n",
    " - in this case, the [Bored API](https://www.boredapi.com), which doesn't require credentials\n",
    "- `activities` now has a list of dictionaries containing data for our page"
   ]
  },
  {
   "cell_type": "markdown",
   "metadata": {
    "slideshow": {
     "slide_type": "slide"
    }
   },
   "source": [
    "```python\n",
    "@app.route('/')\n",
    "def index():\n",
    "\n",
    "    return render_template('index.html', site_name=site_name, activities=activities)\n",
    "```\n",
    "\n",
    "- we've called the `render_template()` function, giving our template file as the first argument, followed by two **keyword arguments** containing our data to be used by the template  \n",
    "- the variable names used in the Python logic are typically (but don't have to be) the same as those used in the Jinja templates"
   ]
  },
  {
   "cell_type": "markdown",
   "metadata": {
    "slideshow": {
     "slide_type": "slide"
    }
   },
   "source": [
    "### Code walkthrough - Jinja templates\n",
    "\n",
    "Take a look at `base.html`:\n",
    "\n",
    "```html\n",
    "<title>{{ site_name }}</title>\n",
    "```\n",
    "\n",
    "```html\n",
    "<body>    \n",
    "    {% block content %}\n",
    "    {% endblock %}\n",
    "</body>\n",
    "```\n",
    "\n",
    "- the value passed for `site_name` will be used as the `title` (shown in the browser tab)\n",
    "- any templates which **extend** this template can insert a **block** labelled `content` in the given location\n",
    "_"
   ]
  },
  {
   "cell_type": "markdown",
   "metadata": {
    "slideshow": {
     "slide_type": "slide"
    }
   },
   "source": [
    "The rest of `base.html` is simply a '**boilerplate**' or 'blank canvas' for using the **Bootstrap** CSS framework:\n",
    "\n",
    "- the **viewport** metadata ensures the page will be **responsive**\n",
    "- the Bootstrap CSS is imported from a **CDN** (Content Delivery Network)"
   ]
  },
  {
   "cell_type": "markdown",
   "metadata": {
    "slideshow": {
     "slide_type": "slide"
    }
   },
   "source": [
    "### Blocks and extensions\n",
    "\n",
    "Take a look at `index.html`:\n",
    "\n",
    "```html\n",
    "{% extends \"base.html\" %}\n",
    "{% block content %}\n",
    "...\n",
    "{% endblock %}\n",
    "```\n",
    "\n",
    "- the `{% extends ... %}` statement tells Jinja to use `base.html` as a starting point for this template  \n",
    "... placing what's between the `{% block ... %}` and `{% endblock ...%}` tags in the position with the same label (here `content`)\n",
    "\n",
    "- there could be several such blocks within `base.html` and `index.html`, using different labels \n"
   ]
  },
  {
   "cell_type": "markdown",
   "metadata": {
    "slideshow": {
     "slide_type": "slide"
    }
   },
   "source": [
    "### Loops and dictionaries\n",
    "\n",
    "```html\n",
    "  {% for activity in activities %}\n",
    "    <tr>\n",
    "      <th scope=\"row\">{{ loop.index }}</th>\n",
    "      <td>{{ activity['activity'] }}</td>\n",
    "      <td>{{ activity['price'] }}</td>\n",
    "    </tr>\n",
    "   {% endfor %}\n",
    "```\n",
    "\n",
    "- as we saw earlier, `{% for...%}` and `{% endfor... %}` designate loops to be completed for each item in a list\n",
    "- we can use the same syntax as Python for getting values from dictionaries: `dictionary['key']`\n",
    "- `loop.index` returns the current iteration count; note that this isn't zero-indexed, and the first value in the table is `1`\n",
    "    - zero-indexed values can be obtained using `loop.index0`"
   ]
  }
 ],
 "metadata": {
  "celltoolbar": "Tags",
  "kernelspec": {
   "display_name": "Python 3",
   "language": "python",
   "name": "python3"
  },
  "language_info": {
   "codemirror_mode": {
    "name": "ipython",
    "version": 3
   },
   "file_extension": ".py",
   "mimetype": "text/x-python",
   "name": "python",
   "nbconvert_exporter": "python",
   "pygments_lexer": "ipython3",
   "version": "3.7.6"
  }
 },
 "nbformat": 4,
 "nbformat_minor": 4
}
